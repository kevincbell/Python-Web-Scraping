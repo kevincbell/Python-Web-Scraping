{
    "cells": [
        {
            "cell_type": "markdown",
            "id": "31089245-242c-4c64-9117-d804d60cf4f9",
            "metadata": {},
            "source": "<center>\n    <img src=\"https://s3-api.us-geo.objectstorage.softlayer.net/cf-courses-data/CognitiveClass/Logos/organization_logo/organization_logo.png\" width=\"300\" alt=\"cognitiveclass.ai logo\">\n</center>\n"
        },
        {
            "cell_type": "markdown",
            "id": "def9f3e1-1b32-4ce6-9453-e2400aa696d9",
            "metadata": {},
            "source": "<h1>Extracting and Visualizing Stock Data</h1>\n<h2>Description</h2>\n"
        },
        {
            "cell_type": "markdown",
            "id": "a4d2e037-039f-49ab-9576-b4803c41d1f4",
            "metadata": {},
            "source": "Extracting essential data from a dataset and displaying it is a necessary part of data science; therefore individuals can make correct decisions based on the data. In this assignment, you will extract some stock data, you will then display this data in a graph.\n"
        },
        {
            "cell_type": "markdown",
            "id": "0fe4361a-7360-4a0e-9812-dd63011eedef",
            "metadata": {},
            "source": "<h2>Table of Contents</h2>\n<div class=\"alert alert-block alert-info\" style=\"margin-top: 20px\">\n    <ul>\n        <li>Define a Function that Makes a Graph</li>\n        <li>Question 1: Use yfinance to Extract Stock Data</li>\n        <li>Question 2: Use Webscraping to Extract Tesla Revenue Data</li>\n        <li>Question 3: Use yfinance to Extract Stock Data</li>\n        <li>Question 4: Use Webscraping to Extract GME Revenue Data</li>\n        <li>Question 5: Plot Tesla Stock Graph</li>\n        <li>Question 6: Plot GameStop Stock Graph</li>\n    </ul>\n<p>\n    Estimated Time Needed: <strong>30 min</strong></p>\n</div>\n\n<hr>\n"
        },
        {
            "cell_type": "code",
            "execution_count": null,
            "id": "fe867730-17bb-41dd-9efa-2bfad7d3513d",
            "metadata": {},
            "outputs": [],
            "source": "!pip install yfinance==0.1.67\n!mamba install bs4==4.10.0 -y\n!pip install nbformat==4.2.0\n!pip --upgrade nbformat -y"
        },
        {
            "cell_type": "code",
            "execution_count": null,
            "id": "7ed784fe-c908-4dc7-b096-b7314954900d",
            "metadata": {},
            "outputs": [],
            "source": "import yfinance as yf\nimport pandas as pd\nimport requests\nfrom bs4 import BeautifulSoup\nimport plotly.graph_objects as go\nfrom plotly.subplots import make_subplots"
        },
        {
            "cell_type": "markdown",
            "id": "9f709758-45f1-4f58-86e1-e9307b863e12",
            "metadata": {},
            "source": "## Define Graphing Function\n"
        },
        {
            "cell_type": "markdown",
            "id": "d9da2c06-760b-4db1-94c2-49fd00d99208",
            "metadata": {},
            "source": "In this section, we define the function `make_graph`. You don't have to know how the function works, you should only care about the inputs. It takes a dataframe with stock data (dataframe must contain Date and Close columns), a dataframe with revenue data (dataframe must contain Date and Revenue columns), and the name of the stock.\n"
        },
        {
            "cell_type": "code",
            "execution_count": null,
            "id": "246889b2-765d-4ed2-a953-e32de78495a9",
            "metadata": {},
            "outputs": [],
            "source": "def make_graph(stock_data, revenue_data, stock):\n    fig = make_subplots(rows=2, cols=1, shared_xaxes=True, subplot_titles=(\"Historical Share Price\", \"Historical Revenue\"), vertical_spacing = .3)\n    stock_data_specific = stock_data[stock_data.Date <= '2021--06-14']\n    revenue_data_specific = revenue_data[revenue_data.Date <= '2021-04-30']\n    fig.add_trace(go.Scatter(x=pd.to_datetime(stock_data_specific.Date, infer_datetime_format=True), y=stock_data_specific.Close.astype(\"float\"), name=\"Share Price\"), row=1, col=1)\n    fig.add_trace(go.Scatter(x=pd.to_datetime(revenue_data_specific.Date, infer_datetime_format=True), y=revenue_data_specific.Revenue.astype(\"float\"), name=\"Revenue\"), row=2, col=1)\n    fig.update_xaxes(title_text=\"Date\", row=1, col=1)\n    fig.update_xaxes(title_text=\"Date\", row=2, col=1)\n    fig.update_yaxes(title_text=\"Price ($US)\", row=1, col=1)\n    fig.update_yaxes(title_text=\"Revenue ($US Millions)\", row=2, col=1)\n    fig.update_layout(showlegend=False,\n    height=900,\n    title=stock,\n    xaxis_rangeslider_visible=True)\n    fig.show()"
        },
        {
            "cell_type": "markdown",
            "id": "caf345aa-536f-45d3-acc8-cd7080dee238",
            "metadata": {},
            "source": "## Question 1: Use yfinance to Extract Stock Data\n"
        },
        {
            "cell_type": "markdown",
            "id": "b5214cfc-96b9-4720-a13a-6cbc99e91c43",
            "metadata": {},
            "source": "Using the `Ticker` function enter the ticker symbol of the stock we want to extract data on to create a ticker object. The stock is Tesla and its ticker symbol is `TSLA`.\n"
        },
        {
            "cell_type": "code",
            "execution_count": null,
            "id": "e31fb1b0-4433-46a4-ae2e-f8d90c79c3d6",
            "metadata": {},
            "outputs": [],
            "source": "tesla = yf.Ticker('TSLA')"
        },
        {
            "cell_type": "markdown",
            "id": "cbc14e70-add0-4128-be0b-a52966eabf6b",
            "metadata": {},
            "source": "Using the ticker object and the function `history` extract stock information and save it in a dataframe named `tesla_data`. Set the `period` parameter to `max` so we get information for the maximum amount of time.\n"
        },
        {
            "cell_type": "code",
            "execution_count": null,
            "id": "21fd0e26-8cbe-49b7-abcb-0fcc5a437b87",
            "metadata": {},
            "outputs": [],
            "source": "tesla_data = tesla.history(period = 'max')"
        },
        {
            "cell_type": "markdown",
            "id": "37c1bd99-8af4-426c-b5e8-90768c441999",
            "metadata": {},
            "source": "**Reset the index** using the `reset_index(inplace=True)` function on the tesla_data DataFrame and display the first five rows of the `tesla_data` dataframe using the `head` function. Take a screenshot of the results and code from the beginning of Question 1 to the results below.\n"
        },
        {
            "cell_type": "code",
            "execution_count": null,
            "id": "33308bc1-6a8c-4caf-81ee-d3a2e0f6b4db",
            "metadata": {},
            "outputs": [],
            "source": "tesla_data.reset_index(inplace = True)\ntesla_data.head()"
        },
        {
            "cell_type": "markdown",
            "id": "828c87af-7e6b-48a8-9979-5ecfa6812424",
            "metadata": {},
            "source": "## Question 2: Use Webscraping to Extract Tesla Revenue Data\n"
        },
        {
            "cell_type": "markdown",
            "id": "c4dc4447-9e46-446d-a800-22af8815a439",
            "metadata": {},
            "source": "Use the `requests` library to download the webpage https://www.macrotrends.net/stocks/charts/TSLA/tesla/revenue. Save the text of the response as a variable named `html_data`.\n"
        },
        {
            "cell_type": "code",
            "execution_count": null,
            "id": "0978c04f-8383-4207-94fd-c9dccc862ea1",
            "metadata": {},
            "outputs": [],
            "source": "url = 'https://www.macrotrends.net/stocks/charts/TSLA/tesla/revenue'"
        },
        {
            "cell_type": "markdown",
            "id": "c5e2aef3-73e9-455a-bacd-0428cea38146",
            "metadata": {},
            "source": "Parse the html data using `beautiful_soup`.\n"
        },
        {
            "cell_type": "code",
            "execution_count": null,
            "id": "476f50f2-fc12-4e97-b3a3-4a0f65042722",
            "metadata": {},
            "outputs": [],
            "source": "data = requests.get(url).text"
        },
        {
            "cell_type": "markdown",
            "id": "01ffbfc3-d385-4e56-a973-0f2f2866694e",
            "metadata": {},
            "source": "Using `BeautifulSoup` or the `read_html` function extract the table with `Tesla Quarterly Revenue` and store it into a dataframe named `tesla_revenue`. The dataframe should have columns `Date` and `Revenue`.\n"
        },
        {
            "cell_type": "markdown",
            "id": "ddb5b077-b57a-4d2b-acbd-40aebe0a777c",
            "metadata": {},
            "source": "<details><summary>Click here if you need help locating the table</summary>\n\n```\n    \nBelow is the code to isolate the table, you will now need to loop through the rows and columns like in the previous lab\n    \nsoup.find_all(\"tbody\")[1]\n    \nIf you want to use the read_html function the table is located at index 1\n\n\n```\n\n</details>\n"
        },
        {
            "cell_type": "code",
            "execution_count": null,
            "id": "a4d8ff03-2f8c-4ff0-8a8a-23344d3355ea",
            "metadata": {},
            "outputs": [],
            "source": "soup = BeautifulSoup(data, 'html5lib')\n\n\ntesla_revenue = pd.DataFrame(columns=['Date', 'Revenue'])\n\nfor row in soup.find('tbody').find_all('tr'):\n    col = row.find_all('td')\n    date = col[0].text\n    revenue = col[1].text\n    \n    tesla_revenue = tesla_revenue.append({'Date':date, 'Revenue':revenue}, ignore_index = True)"
        },
        {
            "cell_type": "markdown",
            "id": "d0f5b109-f6f5-4603-b62b-2cf3c0e8aa3e",
            "metadata": {},
            "source": "Execute the following line to remove the comma and dollar sign from the `Revenue` column. \n"
        },
        {
            "cell_type": "code",
            "execution_count": null,
            "id": "53d01a9d-dc0c-49c8-b7a6-05667fdee94e",
            "metadata": {},
            "outputs": [],
            "source": "tesla_revenue[\"Revenue\"] = tesla_revenue['Revenue'].str.replace(',|\\$',\"\")"
        },
        {
            "cell_type": "markdown",
            "id": "611063fc-020e-43c1-83d6-9699680b9247",
            "metadata": {},
            "source": "Execute the following lines to remove an null or empty strings in the Revenue column.\n"
        },
        {
            "cell_type": "code",
            "execution_count": null,
            "id": "a97a207a-71ae-4288-a400-43c3733dc5ec",
            "metadata": {},
            "outputs": [],
            "source": "tesla_revenue.dropna(inplace=True)\n\ntesla_revenue = tesla_revenue[tesla_revenue['Revenue'] != \"\"]"
        },
        {
            "cell_type": "markdown",
            "id": "46dd91e4-6f4c-4f58-9da4-472a2364c90f",
            "metadata": {},
            "source": "Display the last 5 row of the `tesla_revenue` dataframe using the `tail` function. Take a screenshot of the results.\n"
        },
        {
            "cell_type": "code",
            "execution_count": null,
            "id": "910a05c0-3b78-48cf-81f8-1fd5a5e6f96e",
            "metadata": {},
            "outputs": [],
            "source": "tesla_revenue.tail()"
        },
        {
            "cell_type": "markdown",
            "id": "0cba10fd-5c0c-4659-a8cd-f7f7c8d3651b",
            "metadata": {},
            "source": "## Question 3: Use yfinance to Extract Stock Data\n"
        },
        {
            "cell_type": "markdown",
            "id": "0e00436e-c740-4ac2-952b-f7512f785500",
            "metadata": {},
            "source": "Using the `Ticker` function enter the ticker symbol of the stock we want to extract data on to create a ticker object. The stock is GameStop and its ticker symbol is `GME`.\n"
        },
        {
            "cell_type": "code",
            "execution_count": null,
            "id": "e8b6acc1-3544-4945-ad6f-d3995bfc070c",
            "metadata": {},
            "outputs": [],
            "source": "gamestop = yf.Ticker('GME')"
        },
        {
            "cell_type": "markdown",
            "id": "872479b5-8ade-433a-a8a6-4b3a336905c4",
            "metadata": {},
            "source": "Using the ticker object and the function `history` extract stock information and save it in a dataframe named `gme_data`. Set the `period` parameter to `max` so we get information for the maximum amount of time.\n"
        },
        {
            "cell_type": "code",
            "execution_count": null,
            "id": "576c1b46-bdac-446e-8f38-045245fcd8c0",
            "metadata": {},
            "outputs": [],
            "source": "gme_data = gamestop.history(period = 'max')"
        },
        {
            "cell_type": "markdown",
            "id": "f8be2613-d1a1-4a95-a44c-031ad30c387c",
            "metadata": {},
            "source": "**Reset the index** using the `reset_index(inplace=True)` function on the gme_data DataFrame and display the first five rows of the `gme_data` dataframe using the `head` function. Take a screenshot of the results and code from the beginning of Question 3 to the results below.\n"
        },
        {
            "cell_type": "code",
            "execution_count": null,
            "id": "ef1d9096-55bb-49c9-b68a-444281655267",
            "metadata": {},
            "outputs": [],
            "source": "gme_data.reset_index(inplace = True)"
        },
        {
            "cell_type": "markdown",
            "id": "dca67941-ead0-40ed-9119-391124122661",
            "metadata": {},
            "source": "## Question 4: Use Webscraping to Extract GME Revenue Data\n"
        },
        {
            "cell_type": "markdown",
            "id": "66463c8d-e3d1-4112-b321-2986d7efe4a4",
            "metadata": {},
            "source": "Use the `requests` library to download the webpage https://cf-courses-data.s3.us.cloud-object-storage.appdomain.cloud/IBMDeveloperSkillsNetwork-PY0220EN-SkillsNetwork/labs/project/stock.html. Save the text of the response as a variable named `html_data`.\n"
        },
        {
            "cell_type": "code",
            "execution_count": null,
            "id": "21171c0c-e4d3-4a5f-99ca-e2c40db8c383",
            "metadata": {},
            "outputs": [],
            "source": "url = 'https://cf-courses-data.s3.us.cloud-object-storage.appdomain.cloud/IBMDeveloperSkillsNetwork-PY0220EN-SkillsNetwork/labs/project/stock.html'"
        },
        {
            "cell_type": "markdown",
            "id": "b54bc5d3-3e26-4f6c-b637-1a5f17429700",
            "metadata": {},
            "source": "Parse the html data using `beautiful_soup`.\n"
        },
        {
            "cell_type": "code",
            "execution_count": null,
            "id": "59b07a86-67a8-4921-92ec-7e07c22bc6bd",
            "metadata": {},
            "outputs": [],
            "source": "data = requests.get(url).text"
        },
        {
            "cell_type": "markdown",
            "id": "79379ea5-9c59-49ab-8213-5105ee9bc9fb",
            "metadata": {},
            "source": "Using `BeautifulSoup` or the `read_html` function extract the table with `GameStop Quarterly Revenue` and store it into a dataframe named `gme_revenue`. The dataframe should have columns `Date` and `Revenue`. Make sure the comma and dollar sign is removed from the `Revenue` column using a method similar to what you did in Question 2.\n"
        },
        {
            "cell_type": "markdown",
            "id": "7b4bb73f-3164-4fd9-98ab-ce83112bbdef",
            "metadata": {},
            "source": "<details><summary>Click here if you need help locating the table</summary>\n\n```\n    \nBelow is the code to isolate the table, you will now need to loop through the rows and columns like in the previous lab\n    \nsoup.find_all(\"tbody\")[1]\n    \nIf you want to use the read_html function the table is located at index 1\n\n\n```\n\n</details>\n"
        },
        {
            "cell_type": "code",
            "execution_count": null,
            "id": "18f66b7f-c841-4661-95d9-bc2407c1bd8f",
            "metadata": {},
            "outputs": [],
            "source": "soup = BeautifulSoup(data, 'html5lib')\n\ngme_revenue = pd.DataFrame(columns=['Date', 'Revenue'])\n\nfor row in soup.find('tbody').find_all('tr'):\n    col = row.find_all('td')\n    date = col[0].text\n    revenue = col[1].text\n    \n    gme_revenue = gme_revenue.append({'Date':date, 'Revenue':revenue}, ignore_index = True)\n    \n    \ngme_revenue[\"Revenue\"] = gme_revenue['Revenue'].str.replace(',|\\$',\"\")\n\ngme_revenue.dropna(inplace=True)\n\ngme_revenue = gme_revenue[gme_revenue['Revenue'] != \"\"]"
        },
        {
            "cell_type": "markdown",
            "id": "01190667-e4ac-44aa-948b-2692205ea0aa",
            "metadata": {},
            "source": "Display the last five rows of the `gme_revenue` dataframe using the `tail` function. Take a screenshot of the results.\n"
        },
        {
            "cell_type": "code",
            "execution_count": null,
            "id": "c5a9209f-7f35-4061-ba50-41c2231e3fa9",
            "metadata": {},
            "outputs": [],
            "source": "gme_revenue.tail()"
        },
        {
            "cell_type": "markdown",
            "id": "2e422f98-96f1-4f73-aecf-bc932e9195d4",
            "metadata": {},
            "source": "## Question 5: Plot Tesla Stock Graph\n"
        },
        {
            "cell_type": "markdown",
            "id": "e52a12d9-3711-4558-8a03-2593e0c6b68d",
            "metadata": {},
            "source": "Use the `make_graph` function to graph the Tesla Stock Data, also provide a title for the graph. The structure to call the `make_graph` function is `make_graph(tesla_data, tesla_revenue, 'Tesla')`. Note the graph will only show data upto June 2021.\n"
        },
        {
            "cell_type": "code",
            "execution_count": null,
            "id": "697fa5fe-5008-460d-b93e-14b67b2bac63",
            "metadata": {},
            "outputs": [],
            "source": "make_graph(tesla_data, tesla_revenue, 'Tesla')"
        },
        {
            "cell_type": "markdown",
            "id": "119360c0-9269-407c-b234-5111746707cf",
            "metadata": {},
            "source": "## Question 6: Plot GameStop Stock Graph\n"
        },
        {
            "cell_type": "markdown",
            "id": "d6a4d8bd-b9c0-4b2b-a9d0-f618b4ac5caf",
            "metadata": {},
            "source": "Use the `make_graph` function to graph the GameStop Stock Data, also provide a title for the graph. The structure to call the `make_graph` function is `make_graph(gme_data, gme_revenue, 'GameStop')`. Note the graph will only show data upto June 2021.\n"
        },
        {
            "cell_type": "code",
            "execution_count": null,
            "id": "68a67fa5-e6c5-4c97-8bf4-6fdaed289f5d",
            "metadata": {},
            "outputs": [],
            "source": "make_graph(gme_data, gme_revenue, 'GameStop')"
        },
        {
            "cell_type": "markdown",
            "id": "072f550a-debc-46f1-a04e-8a7ab0051bfa",
            "metadata": {},
            "source": "<h2>About the Authors:</h2> \n\n<a href=\"https://www.linkedin.com/in/joseph-s-50398b136/?utm_medium=Exinfluencer&utm_source=Exinfluencer&utm_content=000026UJ&utm_term=10006555&utm_id=NA-SkillsNetwork-Channel-SkillsNetworkCoursesIBMDeveloperSkillsNetworkPY0220ENSkillsNetwork900-2022-01-01\">Joseph Santarcangelo</a> has a PhD in Electrical Engineering, his research focused on using machine learning, signal processing, and computer vision to determine how videos impact human cognition. Joseph has been working for IBM since he completed his PhD.\n\nAzim Hirjani\n"
        },
        {
            "cell_type": "markdown",
            "id": "66eb686a-439d-4e54-bb98-b8f42f14230e",
            "metadata": {},
            "source": "## Change Log\n\n| Date (YYYY-MM-DD) | Version | Changed By    | Change Description        |\n| ----------------- | ------- | ------------- | ------------------------- |\n| 2022-02-28        | 1.2     | Lakshmi Holla | Changed the URL of GameStop |\n| 2020-11-10        | 1.1     | Malika Singla | Deleted the Optional part |\n| 2020-08-27        | 1.0     | Malika Singla | Added lab to GitLab       |\n\n<hr>\n\n## <h3 align=\"center\"> \u00a9 IBM Corporation 2020. All rights reserved. <h3/>\n\n<p>\n"
        }
    ],
    "metadata": {
        "kernelspec": {
            "display_name": "Python 3.9",
            "language": "python",
            "name": "python3"
        },
        "language_info": {
            "codemirror_mode": {
                "name": "ipython",
                "version": 3
            },
            "file_extension": ".py",
            "mimetype": "text/x-python",
            "name": "python",
            "nbconvert_exporter": "python",
            "pygments_lexer": "ipython3",
            "version": "3.9.13"
        }
    },
    "nbformat": 4,
    "nbformat_minor": 4
}